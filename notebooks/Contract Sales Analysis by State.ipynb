{
 "cells": [
  {
   "cell_type": "code",
   "execution_count": 17,
   "metadata": {},
   "outputs": [
    {
     "data": {
      "text/plain": [
       "'1.1.3'"
      ]
     },
     "execution_count": 17,
     "metadata": {},
     "output_type": "execute_result"
    }
   ],
   "source": [
    "import pandas as pd \n",
    "pd.__version__"
   ]
  },
  {
   "cell_type": "code",
   "execution_count": 28,
   "metadata": {},
   "outputs": [],
   "source": [
    "data = pd.read_csv(\"/Users/matthavey/Desktop/bip-python-unh/sales_analysis/data/customers.csv\")"
   ]
  },
  {
   "cell_type": "code",
   "execution_count": 29,
   "metadata": {},
   "outputs": [
    {
     "data": {
      "text/html": [
       "<div>\n",
       "<style scoped>\n",
       "    .dataframe tbody tr th:only-of-type {\n",
       "        vertical-align: middle;\n",
       "    }\n",
       "\n",
       "    .dataframe tbody tr th {\n",
       "        vertical-align: top;\n",
       "    }\n",
       "\n",
       "    .dataframe thead th {\n",
       "        text-align: right;\n",
       "    }\n",
       "</style>\n",
       "<table border=\"1\" class=\"dataframe\">\n",
       "  <thead>\n",
       "    <tr style=\"text-align: right;\">\n",
       "      <th></th>\n",
       "      <th>id</th>\n",
       "      <th>company</th>\n",
       "      <th>sector</th>\n",
       "      <th>industry</th>\n",
       "      <th>email</th>\n",
       "      <th>address</th>\n",
       "      <th>city</th>\n",
       "      <th>state</th>\n",
       "      <th>zip</th>\n",
       "    </tr>\n",
       "  </thead>\n",
       "  <tbody>\n",
       "    <tr>\n",
       "      <th>0</th>\n",
       "      <td>1</td>\n",
       "      <td>Bubblebox</td>\n",
       "      <td>Capital Goods</td>\n",
       "      <td>Military/Government/Technical</td>\n",
       "      <td>kyerson0@bizjournals.com</td>\n",
       "      <td>76 Randy Circle</td>\n",
       "      <td>San Diego</td>\n",
       "      <td>CA</td>\n",
       "      <td>92170</td>\n",
       "    </tr>\n",
       "    <tr>\n",
       "      <th>1</th>\n",
       "      <td>2</td>\n",
       "      <td>Izio</td>\n",
       "      <td>Energy</td>\n",
       "      <td>Oil &amp; Gas Production</td>\n",
       "      <td>farlet1@comcast.net</td>\n",
       "      <td>15360 Village Green Street</td>\n",
       "      <td>Spokane</td>\n",
       "      <td>WA</td>\n",
       "      <td>99252</td>\n",
       "    </tr>\n",
       "    <tr>\n",
       "      <th>2</th>\n",
       "      <td>3</td>\n",
       "      <td>Twitterworks</td>\n",
       "      <td>NaN</td>\n",
       "      <td>NaN</td>\n",
       "      <td>alerohan2@ox.ac.uk</td>\n",
       "      <td>29 Hovde Hill</td>\n",
       "      <td>Milwaukee</td>\n",
       "      <td>WI</td>\n",
       "      <td>53234</td>\n",
       "    </tr>\n",
       "    <tr>\n",
       "      <th>3</th>\n",
       "      <td>4</td>\n",
       "      <td>Viva</td>\n",
       "      <td>Health Care</td>\n",
       "      <td>Major Pharmaceuticals</td>\n",
       "      <td>wgiovanitti3@nytimes.com</td>\n",
       "      <td>074 Center Place</td>\n",
       "      <td>Topeka</td>\n",
       "      <td>KS</td>\n",
       "      <td>66667</td>\n",
       "    </tr>\n",
       "    <tr>\n",
       "      <th>4</th>\n",
       "      <td>5</td>\n",
       "      <td>Jabberstorm</td>\n",
       "      <td>Technology</td>\n",
       "      <td>Computer Software: Prepackaged Software</td>\n",
       "      <td>pscallon4@fc2.com</td>\n",
       "      <td>4 Moose Way</td>\n",
       "      <td>Terre Haute</td>\n",
       "      <td>IN</td>\n",
       "      <td>47805</td>\n",
       "    </tr>\n",
       "  </tbody>\n",
       "</table>\n",
       "</div>"
      ],
      "text/plain": [
       "   id       company         sector                                 industry  \\\n",
       "0   1     Bubblebox  Capital Goods            Military/Government/Technical   \n",
       "1   2          Izio         Energy                     Oil & Gas Production   \n",
       "2   3  Twitterworks            NaN                                      NaN   \n",
       "3   4          Viva    Health Care                    Major Pharmaceuticals   \n",
       "4   5   Jabberstorm     Technology  Computer Software: Prepackaged Software   \n",
       "\n",
       "                      email                     address         city state  \\\n",
       "0  kyerson0@bizjournals.com             76 Randy Circle    San Diego    CA   \n",
       "1       farlet1@comcast.net  15360 Village Green Street      Spokane    WA   \n",
       "2        alerohan2@ox.ac.uk               29 Hovde Hill    Milwaukee    WI   \n",
       "3  wgiovanitti3@nytimes.com            074 Center Place       Topeka    KS   \n",
       "4         pscallon4@fc2.com                 4 Moose Way  Terre Haute    IN   \n",
       "\n",
       "     zip  \n",
       "0  92170  \n",
       "1  99252  \n",
       "2  53234  \n",
       "3  66667  \n",
       "4  47805  "
      ]
     },
     "execution_count": 29,
     "metadata": {},
     "output_type": "execute_result"
    }
   ],
   "source": [
    "data.head()"
   ]
  },
  {
   "cell_type": "code",
   "execution_count": 30,
   "metadata": {},
   "outputs": [],
   "source": [
    "data2 = pd.read_csv(\"/Users/matthavey/Desktop/bip-python-unh/sales_analysis/data/contracts.csv\")"
   ]
  },
  {
   "cell_type": "code",
   "execution_count": 31,
   "metadata": {},
   "outputs": [
    {
     "data": {
      "text/html": [
       "<div>\n",
       "<style scoped>\n",
       "    .dataframe tbody tr th:only-of-type {\n",
       "        vertical-align: middle;\n",
       "    }\n",
       "\n",
       "    .dataframe tbody tr th {\n",
       "        vertical-align: top;\n",
       "    }\n",
       "\n",
       "    .dataframe thead th {\n",
       "        text-align: right;\n",
       "    }\n",
       "</style>\n",
       "<table border=\"1\" class=\"dataframe\">\n",
       "  <thead>\n",
       "    <tr style=\"text-align: right;\">\n",
       "      <th></th>\n",
       "      <th>contract_id</th>\n",
       "      <th>customer_id</th>\n",
       "      <th>contract_start</th>\n",
       "      <th>contract_term</th>\n",
       "      <th>deposit</th>\n",
       "      <th>monthly_amt</th>\n",
       "    </tr>\n",
       "  </thead>\n",
       "  <tbody>\n",
       "    <tr>\n",
       "      <th>0</th>\n",
       "      <td>1</td>\n",
       "      <td>127</td>\n",
       "      <td>8/17/2019</td>\n",
       "      <td>12</td>\n",
       "      <td>$53,000.00</td>\n",
       "      <td>$11,600.00</td>\n",
       "    </tr>\n",
       "    <tr>\n",
       "      <th>1</th>\n",
       "      <td>2</td>\n",
       "      <td>119</td>\n",
       "      <td>12/1/2019</td>\n",
       "      <td>22</td>\n",
       "      <td>$77,000.00</td>\n",
       "      <td>$14,600.00</td>\n",
       "    </tr>\n",
       "    <tr>\n",
       "      <th>2</th>\n",
       "      <td>3</td>\n",
       "      <td>160</td>\n",
       "      <td>5/1/2019</td>\n",
       "      <td>15</td>\n",
       "      <td>$13,000.00</td>\n",
       "      <td>$22,800.00</td>\n",
       "    </tr>\n",
       "    <tr>\n",
       "      <th>3</th>\n",
       "      <td>4</td>\n",
       "      <td>7</td>\n",
       "      <td>12/8/2019</td>\n",
       "      <td>23</td>\n",
       "      <td>$56,000.00</td>\n",
       "      <td>$11,400.00</td>\n",
       "    </tr>\n",
       "    <tr>\n",
       "      <th>4</th>\n",
       "      <td>5</td>\n",
       "      <td>144</td>\n",
       "      <td>2/11/2019</td>\n",
       "      <td>7</td>\n",
       "      <td>$21,000.00</td>\n",
       "      <td>$19,800.00</td>\n",
       "    </tr>\n",
       "  </tbody>\n",
       "</table>\n",
       "</div>"
      ],
      "text/plain": [
       "   contract_id  customer_id contract_start  contract_term     deposit  \\\n",
       "0            1          127      8/17/2019             12  $53,000.00   \n",
       "1            2          119      12/1/2019             22  $77,000.00   \n",
       "2            3          160       5/1/2019             15  $13,000.00   \n",
       "3            4            7      12/8/2019             23  $56,000.00   \n",
       "4            5          144      2/11/2019              7  $21,000.00   \n",
       "\n",
       "  monthly_amt  \n",
       "0  $11,600.00  \n",
       "1  $14,600.00  \n",
       "2  $22,800.00  \n",
       "3  $11,400.00  \n",
       "4  $19,800.00  "
      ]
     },
     "execution_count": 31,
     "metadata": {},
     "output_type": "execute_result"
    }
   ],
   "source": [
    "data2.head()"
   ]
  },
  {
   "cell_type": "code",
   "execution_count": 42,
   "metadata": {},
   "outputs": [],
   "source": [
    "data = data2.join"
   ]
  },
  {
   "cell_type": "code",
   "execution_count": null,
   "metadata": {},
   "outputs": [],
   "source": []
  }
 ],
 "metadata": {
  "kernelspec": {
   "display_name": "Python 3",
   "language": "python",
   "name": "python3"
  },
  "language_info": {
   "codemirror_mode": {
    "name": "ipython",
    "version": 3
   },
   "file_extension": ".py",
   "mimetype": "text/x-python",
   "name": "python",
   "nbconvert_exporter": "python",
   "pygments_lexer": "ipython3",
   "version": "3.8.5"
  }
 },
 "nbformat": 4,
 "nbformat_minor": 4
}
